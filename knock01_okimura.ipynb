{
 "cells": [
  {
   "cell_type": "markdown",
   "metadata": {},
   "source": [
    "# 00. 文字列の逆順\n",
    "文字列”stressed”の文字を逆に（末尾から先頭に向かって）並べた文字列を得よ．"
   ]
  },
  {
   "cell_type": "code",
   "execution_count": 1,
   "metadata": {},
   "outputs": [
    {
     "data": {
      "text/plain": [
       "'\"desserts'"
      ]
     },
     "execution_count": 1,
     "metadata": {},
     "output_type": "execute_result"
    }
   ],
   "source": [
    "#00\n",
    "def reverse(word):\n",
    "    return word[::-1]\n",
    "reverse('stressed\"')"
   ]
  },
  {
   "cell_type": "markdown",
   "metadata": {},
   "source": [
    "# 01. 「パタトクカシーー」\n",
    "「パタトクカシーー」という文字列の1,3,5,7文字目を取り出して連結した文字列を得よ"
   ]
  },
  {
   "cell_type": "code",
   "execution_count": 2,
   "metadata": {},
   "outputs": [
    {
     "data": {
      "text/plain": [
       "'パトカー'"
      ]
     },
     "execution_count": 2,
     "metadata": {},
     "output_type": "execute_result"
    }
   ],
   "source": [
    "#01\n",
    "def sampling(word):\n",
    "    return word[0:7:2]\n",
    "sampling('パタトクカシーー')"
   ]
  },
  {
   "cell_type": "markdown",
   "metadata": {},
   "source": [
    "# 02. 「パトカー」＋「タクシー」＝「パタトクカシーー」\n",
    "「パトカー」＋「タクシー」の文字を先頭から交互に連結して文字列「パタトクカシーー」を得よ．"
   ]
  },
  {
   "cell_type": "code",
   "execution_count": 3,
   "metadata": {},
   "outputs": [
    {
     "data": {
      "text/plain": [
       "'パタトクカシーー'"
      ]
     },
     "execution_count": 3,
     "metadata": {},
     "output_type": "execute_result"
    }
   ],
   "source": [
    "#02\n",
    "def mix(word1, word2):\n",
    "    word = ''\n",
    "    for i in range(max(len(word1), len(word2))):\n",
    "        word += word1[i] + word2[i]\n",
    "    return word\n",
    "mix('パトカー', 'タクシー')"
   ]
  },
  {
   "cell_type": "markdown",
   "metadata": {},
   "source": [
    "# 03. 円周率\n",
    "“Now I need a drink, alcoholic of course, after the heavy lectures involving quantum mechanics.”という文を単語に分解し，各単語の（アルファベットの）文字数を先頭から出現順に並べたリストを作成せよ．"
   ]
  },
  {
   "cell_type": "code",
   "execution_count": 12,
   "metadata": {},
   "outputs": [
    {
     "data": {
      "text/plain": [
       "[3, 1, 4, 1, 5, 9, 2, 6, 5, 3, 5, 8, 9, 7, 9]"
      ]
     },
     "execution_count": 12,
     "metadata": {},
     "output_type": "execute_result"
    }
   ],
   "source": [
    "#03\n",
    "def pai(sentence):\n",
    "    words = sentence.replace(',', '').replace('.', '')\n",
    "    words = words.split(' ')\n",
    "    words_len =  list(map(len, words))\n",
    "    return words_len\n",
    "pai('Now I need a drink, alcoholic of course, after the heavy lectures involving quantum mechanics.')"
   ]
  },
  {
   "cell_type": "markdown",
   "metadata": {},
   "source": [
    "# 04. 元素記号\n",
    "“Hi He Lied Because Boron Could Not Oxidize Fluorine. New Nations Might Also Sign Peace Security Clause. Arthur King Can.”という文を単語に分解し，1, 5, 6, 7, 8, 9, 15, 16, 19番目の単語は先頭の1文字，それ以外の単語は先頭に2文字を取り出し，取り出した文字列から単語の位置（先頭から何番目の単語か）への連想配列（辞書型もしくはマップ型）を作成せよ．"
   ]
  },
  {
   "cell_type": "code",
   "execution_count": 5,
   "metadata": {},
   "outputs": [
    {
     "data": {
      "text/plain": [
       "{1: 'H',\n",
       " 2: 'He',\n",
       " 3: 'Li',\n",
       " 4: 'Be',\n",
       " 5: 'B',\n",
       " 6: 'C',\n",
       " 7: 'N',\n",
       " 8: 'O',\n",
       " 9: 'F',\n",
       " 10: 'Ne',\n",
       " 11: 'Na',\n",
       " 12: 'Mi',\n",
       " 13: 'Al',\n",
       " 14: 'Si',\n",
       " 15: 'P',\n",
       " 16: 'S',\n",
       " 17: 'Cl',\n",
       " 18: 'Ar',\n",
       " 19: 'K',\n",
       " 20: 'Ca'}"
      ]
     },
     "execution_count": 5,
     "metadata": {},
     "output_type": "execute_result"
    }
   ],
   "source": [
    "#04\n",
    "def atom(sentence):\n",
    "    words = sentence.replace('', '').split(' ')\n",
    "    atom_list = {}\n",
    "    number = [1, 5, 6, 7, 8, 9, 15, 16, 19]\n",
    "    for i, word in enumerate(words):\n",
    "        if i + 1 in number:\n",
    "            atom_list[i+1] = word[0]\n",
    "        else:\n",
    "            atom_list[i + 1] = word[:2]\n",
    "    return atom_list\n",
    "atom(\"Hi He Lied Because Boron Could Not Oxidize Fluorine. New Nations Might Also Sign Peace Security Clause. Arthur King Can.\")"
   ]
  },
  {
   "cell_type": "markdown",
   "metadata": {},
   "source": [
    "# 05. n-gram\n",
    "与えられたシーケンス（文字列やリストなど）からn-gramを作る関数を作成せよ．この関数を用い，”I am an NLPer”という文から単語bi-gram，文字bi-gramを得よ．"
   ]
  },
  {
   "cell_type": "code",
   "execution_count": 16,
   "metadata": {},
   "outputs": [
    {
     "data": {
      "text/plain": [
       "([['I', 'am'], ['am', 'an'], ['an', 'NLPer']],\n",
       " ['Ia', 'am', 'ma', 'an', 'nN', 'NL', 'LP', 'Pe', 'er'])"
      ]
     },
     "execution_count": 16,
     "metadata": {},
     "output_type": "execute_result"
    }
   ],
   "source": [
    "#05\n",
    "def ngram(sentence, way, number):\n",
    "    result = []\n",
    "    if way == 'tango':\n",
    "        words = sentence.split(' ')\n",
    "    elif way == 'moji':\n",
    "        words = sentence.replace(' ', '')\n",
    "    for i in range(len(words)):\n",
    "        if i + number <= len(words):\n",
    "            result.append(words[i: i + number])\n",
    "        else:\n",
    "            break\n",
    "    return result\n",
    "ngram('I am an NLPer', 'tango', 2),ngram('I am an NLPer', 'moji', 2)"
   ]
  },
  {
   "cell_type": "markdown",
   "metadata": {},
   "source": [
    "# 06. 集合\n",
    "“paraparaparadise”と”paragraph”に含まれる文字bi-gramの集合を，それぞれ, XとYとして求め，XとYの和集合，積集合，差集合を求めよ．さらに，’se’というbi-gramがXおよびYに含まれるかどうかを調べよ．"
   ]
  },
  {
   "cell_type": "code",
   "execution_count": 7,
   "metadata": {},
   "outputs": [
    {
     "data": {
      "text/plain": [
       "({'ad', 'ag', 'ap', 'ar', 'di', 'gr', 'is', 'pa', 'ph', 'ra', 'se'},\n",
       " True,\n",
       " {'ap', 'ar', 'pa', 'ra'},\n",
       " False,\n",
       " {'ad', 'di', 'is', 'se'},\n",
       " True)"
      ]
     },
     "execution_count": 7,
     "metadata": {},
     "output_type": "execute_result"
    }
   ],
   "source": [
    "#06\n",
    "def aggregation(sentence1, sentence2, moji):\n",
    "        x = set(ngram(sentence1, 'moji', 2))\n",
    "        y = set(ngram(sentence2, 'moji', 2))\n",
    "        p = set()\n",
    "        p.add(moji)\n",
    "        wa = x.union(y)\n",
    "        seki = x.intersection(y)\n",
    "        sa = x.difference(y)\n",
    "        return wa, wa > p, seki, seki > p, sa, sa > p\n",
    "\n",
    "aggregation('paraparaparadise', 'paragraph', 'se')"
   ]
  },
  {
   "cell_type": "markdown",
   "metadata": {},
   "source": [
    "# 07. テンプレートによる文生成\n",
    "引数x, y, zを受け取り「x時のyはz」という文字列を返す関数を実装せよ．さらに，x=12, y=”気温”, z=22.4として，実行結果を確認せよ．"
   ]
  },
  {
   "cell_type": "code",
   "execution_count": 8,
   "metadata": {},
   "outputs": [
    {
     "data": {
      "text/plain": [
       "'12時の気温は22.4'"
      ]
     },
     "execution_count": 8,
     "metadata": {},
     "output_type": "execute_result"
    }
   ],
   "source": [
    "#07\n",
    "def template(x, y, z):\n",
    "    return \"{0}時の{1}は{2}\".format(x, y, z)\n",
    "\n",
    "template(x=12, y=\"気温\", z=22.4)"
   ]
  },
  {
   "cell_type": "markdown",
   "metadata": {},
   "source": [
    "# 08. 暗号文\n",
    "与えられた文字列の各文字を，以下の仕様で変換する関数cipherを実装せよ．\n",
    "+ 英小文字ならば(219 - 文字コード)の文字に置換\n",
    "+ その他の文字はそのまま出力\n",
    "\n",
    "<p>この関数を用い，英語のメッセージを暗号化・復号化せよ．</p>"
   ]
  },
  {
   "cell_type": "code",
   "execution_count": 19,
   "metadata": {},
   "outputs": [
    {
     "data": {
      "text/plain": [
       "'I zn Jlsm.'"
      ]
     },
     "execution_count": 19,
     "metadata": {},
     "output_type": "execute_result"
    }
   ],
   "source": [
    "#08\n",
    "def criptogram(sentence):\n",
    "    return ''.join(chr(219 - ord(c)) if 'a' <= c <= 'z' else c for c in sentence)\n",
    "\n",
    "criptogram('I am John.')"
   ]
  },
  {
   "cell_type": "markdown",
   "metadata": {},
   "source": [
    "# 09. Typoglycemia\n",
    "スペースで区切られた単語列に対して，各単語の先頭と末尾の文字は残し，それ以外の文字の順序をランダムに並び替えるプログラムを作成せよ．ただし，長さが４以下の単語は並び替えないこととする．適当な英語の文（例えば”I couldn’t believe that I could actually understand what I was reading : the phenomenal power of the human mind .”）を与え，その実行結果を確認せよ．"
   ]
  },
  {
   "cell_type": "code",
   "execution_count": 18,
   "metadata": {},
   "outputs": [
    {
     "data": {
      "text/plain": [
       "\"I con'ldut beeivle that I culod atlaucly udnntraesd what I was riaedng : the pnmoheneal peowr of the haumn mind .\""
      ]
     },
     "execution_count": 18,
     "metadata": {},
     "output_type": "execute_result"
    }
   ],
   "source": [
    "#09\n",
    "def typoglycemia(sentence):\n",
    "    import random\n",
    "    words = sentence.split(' ')\n",
    "    typo = []\n",
    "    for i, word in enumerate(words):\n",
    "        if len(word) <= 4:\n",
    "            typo.append(word)\n",
    "        elif len(word) > 4:\n",
    "            word_new = word[0]+\"\".join(random.sample(word[1:-1], len(word) - 2)) +word[-1]\n",
    "            typo.append(word_new)\n",
    "    return ' '.join(typo)\n",
    "\n",
    "typoglycemia(\"I couldn't believe that I could actually understand what I was reading : the phenomenal power of the human mind .\")"
   ]
  },
  {
   "cell_type": "code",
   "execution_count": null,
   "metadata": {},
   "outputs": [],
   "source": []
  },
  {
   "cell_type": "code",
   "execution_count": null,
   "metadata": {},
   "outputs": [],
   "source": []
  }
 ],
 "metadata": {
  "kernelspec": {
   "display_name": "Python 3",
   "language": "python",
   "name": "python3"
  },
  "language_info": {
   "codemirror_mode": {
    "name": "ipython",
    "version": 3
   },
   "file_extension": ".py",
   "mimetype": "text/x-python",
   "name": "python",
   "nbconvert_exporter": "python",
   "pygments_lexer": "ipython3",
   "version": "3.8.0"
  }
 },
 "nbformat": 4,
 "nbformat_minor": 4
}
